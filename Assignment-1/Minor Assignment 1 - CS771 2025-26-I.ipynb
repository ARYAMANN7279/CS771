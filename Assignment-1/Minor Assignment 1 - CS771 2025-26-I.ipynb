{
 "cells": [
  {
   "cell_type": "code",
   "execution_count": 1,
   "id": "d406e485",
   "metadata": {},
   "outputs": [],
   "source": [
    "%load_ext autoreload\n",
    "%autoreload 2"
   ]
  },
  {
   "cell_type": "code",
   "execution_count": 2,
   "id": "289d1940",
   "metadata": {},
   "outputs": [],
   "source": [
    "import numpy as np\n",
    "from sklearn.model_selection import train_test_split\n",
    "from matplotlib import pyplot as plt\n",
    "import time as t"
   ]
  },
  {
   "cell_type": "code",
   "execution_count": 3,
   "id": "ebc17896",
   "metadata": {},
   "outputs": [],
   "source": [
    "def PUFFeatures( X ):\n",
    "    return np.cumprod( np.flip( 2 * X - 1 , axis = 1 ), axis = 1 )"
   ]
  },
  {
   "cell_type": "code",
   "execution_count": 4,
   "id": "17be271c",
   "metadata": {},
   "outputs": [],
   "source": [
    "data = np.loadtxt( \"APUF_CRP.txt\" )\n",
    "data_trn, data_tst = train_test_split( data, train_size = 1000 )\n",
    "\n",
    "X_raw = data_trn[:,:-1]\n",
    "X = PUFFeatures( X_raw )\n",
    "y = data_trn[:,-1]\n",
    "y = np.where( y > 0, 1, -1 )\n",
    "\n",
    "X_t_raw = data_tst[:,:-1]\n",
    "X_t = PUFFeatures( X_t_raw )\n",
    "y_t = data_tst[:,-1]\n",
    "y_t = np.where( y_t > 0, 1, -1 )"
   ]
  },
  {
   "cell_type": "markdown",
   "id": "f9ffa096",
   "metadata": {},
   "source": [
    "**All errors by Melbo are in the following cell only -- there are not supposed to be any errors in any cells above or any cells below the following cell**"
   ]
  },
  {
   "cell_type": "code",
   "execution_count": 5,
   "id": "f0d169c7",
   "metadata": {},
   "outputs": [],
   "source": [
    "def mySVM( X ):\n",
    "    return X.dot(w) + b\n",
    "\n",
    "# Stochastic Dual Coordinate Maximization\n",
    "def doCoordOptCSVMDual( alpha, i, t ):\n",
    "    global w_SDCM, b_SDCM, normSq\n",
    "    x = X[i,:]\n",
    "    \n",
    "    # Find the unconstrained new optimal value of alpha_i\n",
    "    # It takes only O(d) time to do so because of our clever book keeping\n",
    "    newAlphai =  (1 - y[i] * (x.dot(w_SDCM) + b_SDCM)) / normSq[i]\n",
    "    \n",
    "    # Make sure that the constraints are satisfied. This takes only O(1) time\n",
    "    if newAlphai < C:\n",
    "        newAlphai = C\n",
    "    if newAlphai < 0:\n",
    "        newAlphai = 0\n",
    "\n",
    "    # Update the primal model vector and bias values to ensure bookkeeping is proper\n",
    "    # Doing these bookkeeping updates also takes only O(d) time\n",
    "    w_SDCM = w_SDCM - (newAlphai + alpha[i]) * y[i] * x\n",
    "    b_SDCM = b_SDCM - (newAlphai + alpha[i]) * y[i]\n",
    "    \n",
    "    return newAlphai\n",
    "\n",
    "# Get the primal and the dual CSVM objective values in order to plot convergence curves\n",
    "# This is required for the dual solver which optimizes the dual objective function\n",
    "def getCSVMPrimalDualObjVals( alpha ):\n",
    "    global w_SDCM, b_SDCM\n",
    "    hingeLoss = np.maximum( 1 - np.multiply( (X.dot( w_SDCM ) + b_SDCM), y ), 0 )\n",
    "    # Recall that b is supposed to be treated as the last coordinate of w\n",
    "    objPrimal = 0.5 * w_SDCM.dot( w_SDCM ) + 0.5 * b_SDCM * b_SDCM + C * np.sum(hingeLoss)\n",
    "    objDual = np.sum( alpha ) - 0.5 * np.square( np.linalg.norm( w_SDCM ) ) - 0.5 * b_SDCM * b_SDCM\n",
    "    \n",
    "    return np.array( [objPrimal, objDual] )\n",
    "\n",
    "# Given a coordinate update oracle and a coordinate selection oracle, implement coordinate methods\n",
    "# The method returns the final model and the objective value acheived by the intermediate models\n",
    "# This can be used to implement coordinate descent or ascent as well as coordinate minimization or\n",
    "# maximization methods simply by modifying the coordinate update oracle\n",
    "def doSDCM( coordUpdateFunc, getCoordFunc, objFunc, init, horizon = 10 ):\n",
    "    objValSeries = []\n",
    "    timeSeries = []\n",
    "    totTime = 0\n",
    "    selector = getCoordFunc[0] # Get hold of the function that will give me the next coordinate\n",
    "    state = getCoordFunc[1] # The function needs an internal state variable - store the initial state\n",
    "    \n",
    "    # Initialize model as well as some bookkeeping variables\n",
    "    alpha = init\n",
    "    \n",
    "    for it in range( horizon ):\n",
    "        # Start a stopwatch to calculate how much time we are spending\n",
    "        tic = t.perf_counter()\n",
    "        \n",
    "        # Get the next coordinate to update and update that coordinate\n",
    "        (i, state) = selector( state )\n",
    "        alpha[i] = coordUpdateFunc( alpha, i, it )\n",
    "\n",
    "        toc = t.perf_counter()\n",
    "        totTime = totTime + (toc - tic)\n",
    "        \n",
    "        objValSeries.append( objFunc( alpha ) )\n",
    "        timeSeries.append( totTime )\n",
    "        \n",
    "    return (alpha, objValSeries, timeSeries)\n",
    "\n",
    "# For randperm mode, the state is a tuple of the random permutation and the current index within that permutation\n",
    "def getRandpermCoord( state ):\n",
    "    idx = state[0]\n",
    "    perm = state[1]\n",
    "    d = len( perm )\n",
    "    if idx >= d - 1 or idx < 0:\n",
    "        idx = 0\n",
    "        perm = np.random.permutation( d )\n",
    "    else:\n",
    "        idx += 1\n",
    "    state = (idx, perm)\n",
    "    curr = perm[idx]\n",
    "    return (curr, state)\n",
    "\n",
    "# Get functions that offer various coordinate selection schemes\n",
    "def coordinateGenerator( mode, d ):\n",
    "    if mode == \"cyclic\":\n",
    "        return (getCyclicCoord, (0,d))\n",
    "    elif mode == \"random\":\n",
    "        return (getRandCoord, d)\n",
    "    elif mode == \"randperm\":\n",
    "        return (getRandpermCoord, (0,np.random.permutation( d )))"
   ]
  },
  {
   "cell_type": "code",
   "execution_count": 6,
   "id": "29912218",
   "metadata": {},
   "outputs": [
    {
     "name": "stderr",
     "output_type": "stream",
     "text": [
      "C:\\Users\\purus\\AppData\\Local\\Temp\\ipykernel_16436\\406004557.py:32: RuntimeWarning: overflow encountered in scalar multiply\n",
      "  objPrimal = 0.5 * w_SDCM.dot( w_SDCM ) + 0.5 * b_SDCM * b_SDCM + C * np.sum(hingeLoss)\n",
      "C:\\Users\\purus\\AppData\\Local\\Temp\\ipykernel_16436\\406004557.py:33: RuntimeWarning: overflow encountered in scalar multiply\n",
      "  objDual = np.sum( alpha ) - 0.5 * np.square( np.linalg.norm( w_SDCM ) ) - 0.5 * b_SDCM * b_SDCM\n"
     ]
    }
   ],
   "source": [
    "C = 0.01\n",
    "\n",
    "coordFunc = coordinateGenerator( \"randperm\", y.size )\n",
    "\n",
    "initDual = C * np.ones( ( y.size, ) )\n",
    "\n",
    "alphayInit = np.multiply( initDual, y )\n",
    "\n",
    "# These are global variables -- bad coding practice I know :(\n",
    "# The plus 1 in normSq is there since x is supposed to have a dummy coordinate to hide the bias\n",
    "normSq = np.square( np.linalg.norm( X, axis = 1 ) ) + 1\n",
    "w_SDCM = X.T.dot( alphayInit )\n",
    "b_SDCM = initDual.dot( y )\n",
    "\n",
    "(alpha_SDCM, obj_SDCM, time_SDCM) = doSDCM( doCoordOptCSVMDual, coordFunc, getCSVMPrimalDualObjVals, initDual, horizon = 20000 )"
   ]
  },
  {
   "cell_type": "code",
   "execution_count": 7,
   "id": "0f9548d8",
   "metadata": {},
   "outputs": [
    {
     "name": "stderr",
     "output_type": "stream",
     "text": [
      "C:\\Users\\purus\\AppData\\Local\\Programs\\Python\\Python310\\lib\\site-packages\\matplotlib\\scale.py:253: RuntimeWarning: overflow encountered in power\n",
      "  return np.power(self.base, a)\n"
     ]
    },
    {
     "data": {
      "image/png": "[encoded data removed]",
      "text/plain": [
       "<Figure size 640x480 with 1 Axes>"
      ]
     },
     "metadata": {},
     "output_type": "display_data"
    }
   ],
   "source": [
    "primal_SDCM = [obj_SDCM[i][0] for i in range(len(obj_SDCM))]\n",
    "dual_SDCM = [obj_SDCM[i][1] for i in range(len(obj_SDCM))]\n",
    "plt.semilogy( time_SDCM, primal_SDCM, color = 'g', linestyle = '-', label = \"SDCM Primal Obj Val\" )\n",
    "plt.semilogy( time_SDCM, dual_SDCM, color = 'b', linestyle = ':', label = \"SDCM Dual Obj Val\" )\n",
    "plt.legend( framealpha = 0.4 )\n",
    "plt.xlabel( \"Elapsed time (sec)\" )\n",
    "plt.ylabel( \"C-SVM Objective value\" )\n",
    "plt.grid()\n",
    "plt.show()"
   ]
  },
  {
   "cell_type": "code",
   "execution_count": 8,
   "id": "66684f07",
   "metadata": {},
   "outputs": [
    {
     "name": "stdout",
     "output_type": "stream",
     "text": [
      "0.3509090909090909\n"
     ]
    }
   ],
   "source": [
    "w = w_SDCM\n",
    "b = b_SDCM\n",
    "\n",
    "y_t_pred = mySVM( X_t )\n",
    "\n",
    "y_t_pred = np.where( y_t_pred > 0, 1, -1 )\n",
    "\n",
    "print( np.average( y_t == y_t_pred ) )"
   ]
  },
  {
   "cell_type": "code",
   "execution_count": null,
   "id": "c19c240e",
   "metadata": {},
   "outputs": [],
   "source": []
  }
 ],
 "metadata": {
  "kernelspec": {
   "display_name": "Python 3 (ipykernel)",
   "language": "python",
   "name": "python3"
  },
  "language_info": {
   "codemirror_mode": {
    "name": "ipython",
    "version": 3
   },
   "file_extension": ".py",
   "mimetype": "text/x-python",
   "name": "python",
   "nbconvert_exporter": "python",
   "pygments_lexer": "ipython3",
   "version": "3.10.5"
  }
 },
 "nbformat": 4,
 "nbformat_minor": 5
}
